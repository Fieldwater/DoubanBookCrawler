{
 "cells": [
  {
   "cell_type": "code",
   "execution_count": 12,
   "metadata": {
    "collapsed": true,
    "pycharm": {
     "name": "#%%\n"
    }
   },
   "outputs": [],
   "source": [
    "import pymysql\n",
    "from redis import StrictRedis\n",
    "host = '172.16.0.132'\n",
    "db = pymysql.connect(\n",
    "    host = host,\n",
    "    port = 3306,\n",
    "    user = 'x-lib',\n",
    "    passwd = 'xlib',\n",
    "    db = 'collie_beta'\n",
    ")\n",
    "cursor = db.cursor()\n",
    "rconn = StrictRedis(host=host, port=6379, db=0, decode_responses=True)\n",
    "sql = \"select url from books\"\n",
    "cursor.execute(sql)\n",
    "urls = cursor.fetchall()\n",
    "for url in urls:\n",
    "    rconn.sadd('collie_beta_1127', url[0])\n",
    "print(\"Complete!\")"
   ]
  }
 ],
 "metadata": {
  "kernelspec": {
   "display_name": "Python 3",
   "language": "python",
   "name": "python3"
  },
  "language_info": {
   "codemirror_mode": {
    "name": "ipython",
    "version": 2
   },
   "file_extension": ".py",
   "mimetype": "text/x-python",
   "name": "python",
   "nbconvert_exporter": "python",
   "pygments_lexer": "ipython2",
   "version": "2.7.6"
  }
 },
 "nbformat": 4,
 "nbformat_minor": 0
}