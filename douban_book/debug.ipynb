{
 "cells": [
  {
   "cell_type": "code",
   "execution_count": 1,
   "metadata": {
    "collapsed": true,
    "pycharm": {
     "name": "#%%\n"
    }
   },
   "outputs": [],
   "source": [
    "import pymysql\n",
    "conn = pymysql.connect(\n",
    "   host='127.0.0.1',\n",
    "   port=3306,\n",
    "   user='root',\n",
    "   passwd='fieldwater',\n",
    "   db='collie_alpha',\n",
    "   charset='utf8'\n",
    ")\n",
    "cursor = conn.cursor()\n"
   ]
  },
  {
   "cell_type": "code",
   "execution_count": 2,
   "outputs": [],
   "source": [
    "data = {\n",
    "  'author': 'The Arabian Nights: Tales of 1001 Nights',\n",
    "  'author_intro': None,\n",
    "  'comments': ['我看的是被阉掉的 =。=',\n",
    "               '都说是经典童书，可是明明很黄很暴力；都说是阿拉伯文学的代表作，可是明明思想倾向就是热烈宣扬不劳而获（对比之下，《机器猫》对不劳而获的既悲悯又讽刺的态度是多么可贵！），推它为阿拉伯文学的代表，简直就是黑阿拉伯世界。',\n",
    "               '读的不是儿童版，厚厚的六本，里面有人兽交',\n",
    "               '炫耀、挥霍，冒险，天生经商头脑、海吹神聊，添油加醋，太回回了',\n",
    "               '和记忆中的封面不一样，但是读的又不可能不是这个版本。'],\n",
    "  'content_intro': '《一千零一夜》被高尔基誉为\"世界民间文学史上最壮丽的一座纪念碑\"。本书故事精彩、妙趣横生、想象丰富、扣人心弦，充满神秘奇幻的色彩，蕴藏瑰丽丰富的风貌，既是儿童幻想的眼睛，又是老年人心灵的慰藉，老少咸宜，令人百读不厌，回味无穷。',\n",
    "  'directory': '\\n'\n",
    "               '        1 国王山鲁亚尔及其兄弟的故事;\\n'\n",
    "               '        2 商人和魔鬼的故事;\\n'\n",
    "               '        3 渔翁的故事;\\n'\n",
    "               '        4 辛伯达航海旅行的故事;\\n'\n",
    "               '        5 阿里巴巴和四十大盗的故事;\\n'\n",
    "               '        6 阿拉丁和神灯的故事;\\n'\n",
    "               '        7 乌木马的故事;\\n'\n",
    "               '        8 艾奈斯和瓦丽黛的故事;\\n'\n",
    "               '        9 脚夫和巴格达三个女人的故事;\\n'\n",
    "               '        10 鸟兽和木匠的故事;\\n'\n",
    "               '        11 牧羊人的故事;\\n'\n",
    "               '        12 阿里・沙琳和祖曼绿蒂的故事;\\n'\n",
    "               '        13 戴藜兰和宰乃白母女的故事;\\n'\n",
    "               '        14 阿里・宰白谷・米斯里的故事;\\n'\n",
    "               '        15 阿卜杜拉・法狄勒和两个哥哥的故事;\\n'\n",
    "               '        ……;\\n'\n",
    "               '     · · · · · ·     (;)\\n',\n",
    "  'douban_recommends': [('格林童话全集', 'https://book.douban.com/subject/1043008/'),\n",
    "                        ('安徒生童话故事集',\n",
    "                         'https://book.douban.com/subject/1046209/'),\n",
    "                        ('海底两万里', 'https://book.douban.com/subject/1085470/'),\n",
    "                        ('西游记（全二册）',\n",
    "                         'https://book.douban.com/subject/1029553/'),\n",
    "                        ('巴黎圣母院', 'https://book.douban.com/subject/1024197/'),\n",
    "                        ('老人与海', 'https://book.douban.com/subject/1064275/'),\n",
    "                        ('鲁滨逊漂流记', 'https://book.douban.com/subject/1016003/'),\n",
    "                        ('悲惨世界（上中下）',\n",
    "                         'https://book.douban.com/subject/1205054/'),\n",
    "                        ('简爱（英文全本）',\n",
    "                         'https://book.douban.com/subject/1141406/'),\n",
    "                        ('哈姆莱特', 'https://book.douban.com/subject/1006197/')],\n",
    "  'image': 'https://img1.doubanio.com/view/subject/s/public/s1070937.jpg',\n",
    "  'isbn': '9787020040346',\n",
    "  'page_number': '560',\n",
    "  'price': '22.00',\n",
    "  'publishing_house': '人民文学出版社',\n",
    "  'publishing_year': '2003-01',\n",
    "  'rating': '8.7',\n",
    "  'tags': ['童话', '一千零一夜', '外国文学', '经典', '神话', '外国名著', '名著', '文学'],\n",
    "  'title': '一千零一夜',\n",
    "  'url': 'https://book.douban.com/subject/1035848/',\n",
    "  'vote_number': '46723'}"
   ],
   "metadata": {
    "collapsed": false,
    "pycharm": {
     "name": "#%%\n"
    }
   }
  },
  {
   "cell_type": "code",
   "execution_count": 3,
   "outputs": [
    {
     "ename": "OperationalError",
     "evalue": "(1054, \"Unknown column 'comments' in 'field list'\")",
     "output_type": "error",
     "traceback": [
      "\u001B[0;31m---------------------------------------------------------------------------\u001B[0m",
      "\u001B[0;31mOperationalError\u001B[0m                          Traceback (most recent call last)",
      "\u001B[0;32m<ipython-input-3-efeef4c317e2>\u001B[0m in \u001B[0;36m<module>\u001B[0;34m\u001B[0m\n\u001B[1;32m      4\u001B[0m \u001B[0mvalues\u001B[0m \u001B[0;34m=\u001B[0m \u001B[0;34m', '\u001B[0m\u001B[0;34m.\u001B[0m\u001B[0mjoin\u001B[0m\u001B[0;34m(\u001B[0m\u001B[0;34m[\u001B[0m\u001B[0;34m'%s'\u001B[0m\u001B[0;34m]\u001B[0m \u001B[0;34m*\u001B[0m \u001B[0mlen\u001B[0m\u001B[0;34m(\u001B[0m\u001B[0mdata\u001B[0m\u001B[0;34m)\u001B[0m\u001B[0;34m)\u001B[0m\u001B[0;34m\u001B[0m\u001B[0;34m\u001B[0m\u001B[0m\n\u001B[1;32m      5\u001B[0m \u001B[0msql\u001B[0m \u001B[0;34m=\u001B[0m \u001B[0;34mf'insert into books ({keys}) values ({values})'\u001B[0m\u001B[0;34m\u001B[0m\u001B[0;34m\u001B[0m\u001B[0m\n\u001B[0;32m----> 6\u001B[0;31m \u001B[0mcursor\u001B[0m\u001B[0;34m.\u001B[0m\u001B[0mexecute\u001B[0m\u001B[0;34m(\u001B[0m\u001B[0msql\u001B[0m\u001B[0;34m,\u001B[0m \u001B[0mtuple\u001B[0m\u001B[0;34m(\u001B[0m\u001B[0mdata\u001B[0m\u001B[0;34m.\u001B[0m\u001B[0mvalues\u001B[0m\u001B[0;34m(\u001B[0m\u001B[0;34m)\u001B[0m\u001B[0;34m)\u001B[0m\u001B[0;34m)\u001B[0m\u001B[0;34m\u001B[0m\u001B[0;34m\u001B[0m\u001B[0m\n\u001B[0m\u001B[1;32m      7\u001B[0m \u001B[0mconn\u001B[0m\u001B[0;34m.\u001B[0m\u001B[0mcommit\u001B[0m\u001B[0;34m(\u001B[0m\u001B[0;34m)\u001B[0m\u001B[0;34m\u001B[0m\u001B[0;34m\u001B[0m\u001B[0m\n",
      "\u001B[0;32m~/Software/anaconda3/envs/douban_book/lib/python3.7/site-packages/pymysql/cursors.py\u001B[0m in \u001B[0;36mexecute\u001B[0;34m(self, query, args)\u001B[0m\n\u001B[1;32m    161\u001B[0m         \u001B[0mquery\u001B[0m \u001B[0;34m=\u001B[0m \u001B[0mself\u001B[0m\u001B[0;34m.\u001B[0m\u001B[0mmogrify\u001B[0m\u001B[0;34m(\u001B[0m\u001B[0mquery\u001B[0m\u001B[0;34m,\u001B[0m \u001B[0margs\u001B[0m\u001B[0;34m)\u001B[0m\u001B[0;34m\u001B[0m\u001B[0;34m\u001B[0m\u001B[0m\n\u001B[1;32m    162\u001B[0m \u001B[0;34m\u001B[0m\u001B[0m\n\u001B[0;32m--> 163\u001B[0;31m         \u001B[0mresult\u001B[0m \u001B[0;34m=\u001B[0m \u001B[0mself\u001B[0m\u001B[0;34m.\u001B[0m\u001B[0m_query\u001B[0m\u001B[0;34m(\u001B[0m\u001B[0mquery\u001B[0m\u001B[0;34m)\u001B[0m\u001B[0;34m\u001B[0m\u001B[0;34m\u001B[0m\u001B[0m\n\u001B[0m\u001B[1;32m    164\u001B[0m         \u001B[0mself\u001B[0m\u001B[0;34m.\u001B[0m\u001B[0m_executed\u001B[0m \u001B[0;34m=\u001B[0m \u001B[0mquery\u001B[0m\u001B[0;34m\u001B[0m\u001B[0;34m\u001B[0m\u001B[0m\n\u001B[1;32m    165\u001B[0m         \u001B[0;32mreturn\u001B[0m \u001B[0mresult\u001B[0m\u001B[0;34m\u001B[0m\u001B[0;34m\u001B[0m\u001B[0m\n",
      "\u001B[0;32m~/Software/anaconda3/envs/douban_book/lib/python3.7/site-packages/pymysql/cursors.py\u001B[0m in \u001B[0;36m_query\u001B[0;34m(self, q)\u001B[0m\n\u001B[1;32m    319\u001B[0m         \u001B[0mself\u001B[0m\u001B[0;34m.\u001B[0m\u001B[0m_last_executed\u001B[0m \u001B[0;34m=\u001B[0m \u001B[0mq\u001B[0m\u001B[0;34m\u001B[0m\u001B[0;34m\u001B[0m\u001B[0m\n\u001B[1;32m    320\u001B[0m         \u001B[0mself\u001B[0m\u001B[0;34m.\u001B[0m\u001B[0m_clear_result\u001B[0m\u001B[0;34m(\u001B[0m\u001B[0;34m)\u001B[0m\u001B[0;34m\u001B[0m\u001B[0;34m\u001B[0m\u001B[0m\n\u001B[0;32m--> 321\u001B[0;31m         \u001B[0mconn\u001B[0m\u001B[0;34m.\u001B[0m\u001B[0mquery\u001B[0m\u001B[0;34m(\u001B[0m\u001B[0mq\u001B[0m\u001B[0;34m)\u001B[0m\u001B[0;34m\u001B[0m\u001B[0;34m\u001B[0m\u001B[0m\n\u001B[0m\u001B[1;32m    322\u001B[0m         \u001B[0mself\u001B[0m\u001B[0;34m.\u001B[0m\u001B[0m_do_get_result\u001B[0m\u001B[0;34m(\u001B[0m\u001B[0;34m)\u001B[0m\u001B[0;34m\u001B[0m\u001B[0;34m\u001B[0m\u001B[0m\n\u001B[1;32m    323\u001B[0m         \u001B[0;32mreturn\u001B[0m \u001B[0mself\u001B[0m\u001B[0;34m.\u001B[0m\u001B[0mrowcount\u001B[0m\u001B[0;34m\u001B[0m\u001B[0;34m\u001B[0m\u001B[0m\n",
      "\u001B[0;32m~/Software/anaconda3/envs/douban_book/lib/python3.7/site-packages/pymysql/connections.py\u001B[0m in \u001B[0;36mquery\u001B[0;34m(self, sql, unbuffered)\u001B[0m\n\u001B[1;32m    503\u001B[0m                 \u001B[0msql\u001B[0m \u001B[0;34m=\u001B[0m \u001B[0msql\u001B[0m\u001B[0;34m.\u001B[0m\u001B[0mencode\u001B[0m\u001B[0;34m(\u001B[0m\u001B[0mself\u001B[0m\u001B[0;34m.\u001B[0m\u001B[0mencoding\u001B[0m\u001B[0;34m,\u001B[0m \u001B[0;34m'surrogateescape'\u001B[0m\u001B[0;34m)\u001B[0m\u001B[0;34m\u001B[0m\u001B[0;34m\u001B[0m\u001B[0m\n\u001B[1;32m    504\u001B[0m         \u001B[0mself\u001B[0m\u001B[0;34m.\u001B[0m\u001B[0m_execute_command\u001B[0m\u001B[0;34m(\u001B[0m\u001B[0mCOMMAND\u001B[0m\u001B[0;34m.\u001B[0m\u001B[0mCOM_QUERY\u001B[0m\u001B[0;34m,\u001B[0m \u001B[0msql\u001B[0m\u001B[0;34m)\u001B[0m\u001B[0;34m\u001B[0m\u001B[0;34m\u001B[0m\u001B[0m\n\u001B[0;32m--> 505\u001B[0;31m         \u001B[0mself\u001B[0m\u001B[0;34m.\u001B[0m\u001B[0m_affected_rows\u001B[0m \u001B[0;34m=\u001B[0m \u001B[0mself\u001B[0m\u001B[0;34m.\u001B[0m\u001B[0m_read_query_result\u001B[0m\u001B[0;34m(\u001B[0m\u001B[0munbuffered\u001B[0m\u001B[0;34m=\u001B[0m\u001B[0munbuffered\u001B[0m\u001B[0;34m)\u001B[0m\u001B[0;34m\u001B[0m\u001B[0;34m\u001B[0m\u001B[0m\n\u001B[0m\u001B[1;32m    506\u001B[0m         \u001B[0;32mreturn\u001B[0m \u001B[0mself\u001B[0m\u001B[0;34m.\u001B[0m\u001B[0m_affected_rows\u001B[0m\u001B[0;34m\u001B[0m\u001B[0;34m\u001B[0m\u001B[0m\n\u001B[1;32m    507\u001B[0m \u001B[0;34m\u001B[0m\u001B[0m\n",
      "\u001B[0;32m~/Software/anaconda3/envs/douban_book/lib/python3.7/site-packages/pymysql/connections.py\u001B[0m in \u001B[0;36m_read_query_result\u001B[0;34m(self, unbuffered)\u001B[0m\n\u001B[1;32m    722\u001B[0m         \u001B[0;32melse\u001B[0m\u001B[0;34m:\u001B[0m\u001B[0;34m\u001B[0m\u001B[0;34m\u001B[0m\u001B[0m\n\u001B[1;32m    723\u001B[0m             \u001B[0mresult\u001B[0m \u001B[0;34m=\u001B[0m \u001B[0mMySQLResult\u001B[0m\u001B[0;34m(\u001B[0m\u001B[0mself\u001B[0m\u001B[0;34m)\u001B[0m\u001B[0;34m\u001B[0m\u001B[0;34m\u001B[0m\u001B[0m\n\u001B[0;32m--> 724\u001B[0;31m             \u001B[0mresult\u001B[0m\u001B[0;34m.\u001B[0m\u001B[0mread\u001B[0m\u001B[0;34m(\u001B[0m\u001B[0;34m)\u001B[0m\u001B[0;34m\u001B[0m\u001B[0;34m\u001B[0m\u001B[0m\n\u001B[0m\u001B[1;32m    725\u001B[0m         \u001B[0mself\u001B[0m\u001B[0;34m.\u001B[0m\u001B[0m_result\u001B[0m \u001B[0;34m=\u001B[0m \u001B[0mresult\u001B[0m\u001B[0;34m\u001B[0m\u001B[0;34m\u001B[0m\u001B[0m\n\u001B[1;32m    726\u001B[0m         \u001B[0;32mif\u001B[0m \u001B[0mresult\u001B[0m\u001B[0;34m.\u001B[0m\u001B[0mserver_status\u001B[0m \u001B[0;32mis\u001B[0m \u001B[0;32mnot\u001B[0m \u001B[0;32mNone\u001B[0m\u001B[0;34m:\u001B[0m\u001B[0;34m\u001B[0m\u001B[0;34m\u001B[0m\u001B[0m\n",
      "\u001B[0;32m~/Software/anaconda3/envs/douban_book/lib/python3.7/site-packages/pymysql/connections.py\u001B[0m in \u001B[0;36mread\u001B[0;34m(self)\u001B[0m\n\u001B[1;32m   1067\u001B[0m     \u001B[0;32mdef\u001B[0m \u001B[0mread\u001B[0m\u001B[0;34m(\u001B[0m\u001B[0mself\u001B[0m\u001B[0;34m)\u001B[0m\u001B[0;34m:\u001B[0m\u001B[0;34m\u001B[0m\u001B[0;34m\u001B[0m\u001B[0m\n\u001B[1;32m   1068\u001B[0m         \u001B[0;32mtry\u001B[0m\u001B[0;34m:\u001B[0m\u001B[0;34m\u001B[0m\u001B[0;34m\u001B[0m\u001B[0m\n\u001B[0;32m-> 1069\u001B[0;31m             \u001B[0mfirst_packet\u001B[0m \u001B[0;34m=\u001B[0m \u001B[0mself\u001B[0m\u001B[0;34m.\u001B[0m\u001B[0mconnection\u001B[0m\u001B[0;34m.\u001B[0m\u001B[0m_read_packet\u001B[0m\u001B[0;34m(\u001B[0m\u001B[0;34m)\u001B[0m\u001B[0;34m\u001B[0m\u001B[0;34m\u001B[0m\u001B[0m\n\u001B[0m\u001B[1;32m   1070\u001B[0m \u001B[0;34m\u001B[0m\u001B[0m\n\u001B[1;32m   1071\u001B[0m             \u001B[0;32mif\u001B[0m \u001B[0mfirst_packet\u001B[0m\u001B[0;34m.\u001B[0m\u001B[0mis_ok_packet\u001B[0m\u001B[0;34m(\u001B[0m\u001B[0;34m)\u001B[0m\u001B[0;34m:\u001B[0m\u001B[0;34m\u001B[0m\u001B[0;34m\u001B[0m\u001B[0m\n",
      "\u001B[0;32m~/Software/anaconda3/envs/douban_book/lib/python3.7/site-packages/pymysql/connections.py\u001B[0m in \u001B[0;36m_read_packet\u001B[0;34m(self, packet_type)\u001B[0m\n\u001B[1;32m    674\u001B[0m             \u001B[0;32mif\u001B[0m \u001B[0mself\u001B[0m\u001B[0;34m.\u001B[0m\u001B[0m_result\u001B[0m \u001B[0;32mis\u001B[0m \u001B[0;32mnot\u001B[0m \u001B[0;32mNone\u001B[0m \u001B[0;32mand\u001B[0m \u001B[0mself\u001B[0m\u001B[0;34m.\u001B[0m\u001B[0m_result\u001B[0m\u001B[0;34m.\u001B[0m\u001B[0munbuffered_active\u001B[0m \u001B[0;32mis\u001B[0m \u001B[0;32mTrue\u001B[0m\u001B[0;34m:\u001B[0m\u001B[0;34m\u001B[0m\u001B[0;34m\u001B[0m\u001B[0m\n\u001B[1;32m    675\u001B[0m                 \u001B[0mself\u001B[0m\u001B[0;34m.\u001B[0m\u001B[0m_result\u001B[0m\u001B[0;34m.\u001B[0m\u001B[0munbuffered_active\u001B[0m \u001B[0;34m=\u001B[0m \u001B[0;32mFalse\u001B[0m\u001B[0;34m\u001B[0m\u001B[0;34m\u001B[0m\u001B[0m\n\u001B[0;32m--> 676\u001B[0;31m             \u001B[0mpacket\u001B[0m\u001B[0;34m.\u001B[0m\u001B[0mraise_for_error\u001B[0m\u001B[0;34m(\u001B[0m\u001B[0;34m)\u001B[0m\u001B[0;34m\u001B[0m\u001B[0;34m\u001B[0m\u001B[0m\n\u001B[0m\u001B[1;32m    677\u001B[0m         \u001B[0;32mreturn\u001B[0m \u001B[0mpacket\u001B[0m\u001B[0;34m\u001B[0m\u001B[0;34m\u001B[0m\u001B[0m\n\u001B[1;32m    678\u001B[0m \u001B[0;34m\u001B[0m\u001B[0m\n",
      "\u001B[0;32m~/Software/anaconda3/envs/douban_book/lib/python3.7/site-packages/pymysql/protocol.py\u001B[0m in \u001B[0;36mraise_for_error\u001B[0;34m(self)\u001B[0m\n\u001B[1;32m    221\u001B[0m         \u001B[0merrno\u001B[0m \u001B[0;34m=\u001B[0m \u001B[0mself\u001B[0m\u001B[0;34m.\u001B[0m\u001B[0mread_uint16\u001B[0m\u001B[0;34m(\u001B[0m\u001B[0;34m)\u001B[0m\u001B[0;34m\u001B[0m\u001B[0;34m\u001B[0m\u001B[0m\n\u001B[1;32m    222\u001B[0m         \u001B[0;32mif\u001B[0m \u001B[0mDEBUG\u001B[0m\u001B[0;34m:\u001B[0m \u001B[0mprint\u001B[0m\u001B[0;34m(\u001B[0m\u001B[0;34m\"errno =\"\u001B[0m\u001B[0;34m,\u001B[0m \u001B[0merrno\u001B[0m\u001B[0;34m)\u001B[0m\u001B[0;34m\u001B[0m\u001B[0;34m\u001B[0m\u001B[0m\n\u001B[0;32m--> 223\u001B[0;31m         \u001B[0merr\u001B[0m\u001B[0;34m.\u001B[0m\u001B[0mraise_mysql_exception\u001B[0m\u001B[0;34m(\u001B[0m\u001B[0mself\u001B[0m\u001B[0;34m.\u001B[0m\u001B[0m_data\u001B[0m\u001B[0;34m)\u001B[0m\u001B[0;34m\u001B[0m\u001B[0;34m\u001B[0m\u001B[0m\n\u001B[0m\u001B[1;32m    224\u001B[0m \u001B[0;34m\u001B[0m\u001B[0m\n\u001B[1;32m    225\u001B[0m     \u001B[0;32mdef\u001B[0m \u001B[0mdump\u001B[0m\u001B[0;34m(\u001B[0m\u001B[0mself\u001B[0m\u001B[0;34m)\u001B[0m\u001B[0;34m:\u001B[0m\u001B[0;34m\u001B[0m\u001B[0;34m\u001B[0m\u001B[0m\n",
      "\u001B[0;32m~/Software/anaconda3/envs/douban_book/lib/python3.7/site-packages/pymysql/err.py\u001B[0m in \u001B[0;36mraise_mysql_exception\u001B[0;34m(data)\u001B[0m\n\u001B[1;32m    105\u001B[0m     \u001B[0;32mif\u001B[0m \u001B[0merrorclass\u001B[0m \u001B[0;32mis\u001B[0m \u001B[0;32mNone\u001B[0m\u001B[0;34m:\u001B[0m\u001B[0;34m\u001B[0m\u001B[0;34m\u001B[0m\u001B[0m\n\u001B[1;32m    106\u001B[0m         \u001B[0merrorclass\u001B[0m \u001B[0;34m=\u001B[0m \u001B[0mInternalError\u001B[0m \u001B[0;32mif\u001B[0m \u001B[0merrno\u001B[0m \u001B[0;34m<\u001B[0m \u001B[0;36m1000\u001B[0m \u001B[0;32melse\u001B[0m \u001B[0mOperationalError\u001B[0m\u001B[0;34m\u001B[0m\u001B[0;34m\u001B[0m\u001B[0m\n\u001B[0;32m--> 107\u001B[0;31m     \u001B[0;32mraise\u001B[0m \u001B[0merrorclass\u001B[0m\u001B[0;34m(\u001B[0m\u001B[0merrno\u001B[0m\u001B[0;34m,\u001B[0m \u001B[0merrval\u001B[0m\u001B[0;34m)\u001B[0m\u001B[0;34m\u001B[0m\u001B[0;34m\u001B[0m\u001B[0m\n\u001B[0m",
      "\u001B[0;31mOperationalError\u001B[0m: (1054, \"Unknown column 'comments' in 'field list'\")"
     ]
    }
   ],
   "source": [
    "from uuid import uuid1\n",
    "data['id'] = str(uuid1().hex)\n",
    "keys = ', '.join(data.keys())\n",
    "values = ', '.join(['\"%s\"'] * len(data))\n",
    "sql = f'insert into books ({keys}) values ({values})'\n",
    "cursor.execute(sql, tuple(data.values()))\n",
    "conn.commit()"
   ],
   "metadata": {
    "collapsed": false,
    "pycharm": {
     "name": "#%%\n"
    }
   }
  },
  {
   "cell_type": "code",
   "execution_count": 6,
   "outputs": [],
   "source": [
    "def _store_dict_to_table(data: dict, table):\n",
    "    \"\"\"\n",
    "    存入字典数据进入mysql.db中给定table\n",
    "    :param data: 字典数据\n",
    "    :param table: 表名称\n",
    "    \"\"\"\n",
    "    keys = ', '.join(data.keys())\n",
    "    values = ', '.join(['%s'] * len(data))\n",
    "    sql = f'insert into {table} ({keys}) values ({values})'\n",
    "    cursor.execute(sql, tuple(data.values()))\n",
    "    conn.commit()\n",
    "\n",
    "# 存入comments表中\n",
    "for comment in comments:\n",
    "    comment_dict = {\n",
    "        'id': uuid1().hex,\n",
    "        'comment': comment.strip(),\n",
    "        'url': item['url'],\n",
    "        'title': item['title'],\n",
    "        'type': 'short',\n",
    "    }\n",
    "    _store_dict_to_table(comment_dict, 'comments')\n",
    "\n",
    "\n",
    "for book, url in douban_recommends:\n",
    "    recommend_dict = {\n",
    "        'id': uuid1().hex,\n",
    "        'url': item['url'],\n",
    "        'title': item['title'],\n",
    "        'recommend_book': book,\n",
    "        'recommend_url': url,\n",
    "    }\n",
    "    _store_dict_to_table(recommend_dict, 'douban_recommend')"
   ],
   "metadata": {
    "collapsed": false,
    "pycharm": {
     "name": "#%%\n"
    }
   }
  }
 ],
 "metadata": {
  "kernelspec": {
   "display_name": "Python 3",
   "language": "python",
   "name": "python3"
  },
  "language_info": {
   "codemirror_mode": {
    "name": "ipython",
    "version": 2
   },
   "file_extension": ".py",
   "mimetype": "text/x-python",
   "name": "python",
   "nbconvert_exporter": "python",
   "pygments_lexer": "ipython2",
   "version": "2.7.6"
  }
 },
 "nbformat": 4,
 "nbformat_minor": 0
}